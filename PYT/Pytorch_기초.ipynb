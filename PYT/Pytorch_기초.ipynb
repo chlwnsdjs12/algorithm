{
 "cells": [
  {
   "cell_type": "code",
   "execution_count": 1,
   "metadata": {},
   "outputs": [],
   "source": [
    "import torch.nn as nn"
   ]
  },
  {
   "cell_type": "code",
   "execution_count": null,
   "metadata": {},
   "outputs": [],
   "source": [
    "class torch_LR_Model(nn.Module):\n",
    "    # 초기화를 위한 init func\n",
    "    def __init__(self):\n",
    "        super(torch_LR_Model, self).__init__()\n",
    "        self.linear1 = nn.Linear(3, 4)\n",
    "        self.linear2 = nn.Linear(4, 2)\n",
    "        self.linear3 = nn.Linear(2, 3)\n",
    "        self.af_sigmoid = nn.Sigmoid()\n",
    "        self.af_ReLU = nn.ReLU()\n",
    "    \n",
    "    # 순전파를 위한 forward func\n",
    "    def forward(self, x):\n",
    "        x = self.linear1(x)\n",
    "        x = self.af_ReLU(x)\n",
    "        x = self.linear2(x)\n",
    "        x = self.af_ReLU(x)\n",
    "        x = self.linear3(x)\n",
    "        x = self.af_sigmoid(x)\n",
    "        return x"
   ]
  },
  {
   "cell_type": "code",
   "execution_count": null,
   "metadata": {},
   "outputs": [],
   "source": [
    "# 재사용에 용이\n",
    "class sequential_LR_Model(nn.Module):\n",
    "    def __init__(self):\n",
    "        super(sequential_LR_Model, self).__init__()\n",
    "        self.model = nn.Sequential(\n",
    "            nn.Linear(2, 4),\n",
    "            nn.ReLU(),\n",
    "            nn.Linear(4, 2),\n",
    "            nn.ReLU(),\n",
    "            nn.Linear(2, 3),\n",
    "            nn.Sigmoid()    \n",
    "        )\n",
    "    \n",
    "    def forward(self, x):\n",
    "        return self.model(x)\n",
    "    \n",
    "LR_model = sequential_LR_Model()\n",
    "LR_model(데이터)\n",
    "loss_fn = nn.MSELoss()\n",
    "loss_fn(pred_y, true_y)\n",
    "optimizer = nn.optim.adam(LR_model.parameter(), lr = 0.001)"
   ]
  },
  {
   "cell_type": "code",
   "execution_count": null,
   "metadata": {},
   "outputs": [],
   "source": [
    "# 수정이 편해짐\n",
    "import torch.nn.functional as F\n",
    "\n",
    "class functional_LR_Model(nn.Module):\n",
    "    def __init__(self):\n",
    "        super(functional_LR_Model, self).__init__()\n",
    "        self.linear1 = nn.Linear(2, 4)\n",
    "        self.linear2 = nn.Linear(4, 2)\n",
    "        self.linear3 = nn.Linear(2, 3)\n",
    "        \n",
    "    def forward(self, x):\n",
    "        x = F.relu(self.linear1(x))\n",
    "        x = F.relu(self.linear2(x))\n",
    "        x = F.sigmoid(self.linear3(x))\n",
    "        return x"
   ]
  },
  {
   "cell_type": "code",
   "execution_count": null,
   "metadata": {},
   "outputs": [],
   "source": [
    "epochs = 1000\n",
    "for epoch in range(epochs):\n",
    "    outputs = LR_model(x)\n",
    "    loss = loss_fn(outputs, y)\n",
    "    optimizer.zero_grad()   # 기울기 초기화(무조건 optimizer.step() 이전에 있어야함)\n",
    "    loss.backward()\n",
    "    optimizer.step()"
   ]
  },
  {
   "cell_type": "code",
   "execution_count": null,
   "metadata": {},
   "outputs": [
    {
     "name": "stdout",
     "output_type": "stream",
     "text": [
      "tensor([[False],\n",
      "        [False],\n",
      "        [False],\n",
      "        [False]])\n"
     ]
    }
   ],
   "source": [
    "import numpy as np\n",
    "import torch.nn as nn\n",
    "import torch.nn.functional as F\n",
    "import torch\n",
    "import torch.optim\n",
    "\n",
    "class practice_model(nn.Module):\n",
    "    def __init__(self):\n",
    "        super(practice_model, self).__init__()\n",
    "        self.model = nn.Sequential(\n",
    "            nn.Linear(2, 3),\n",
    "            nn.ReLU(),\n",
    "            nn.Linear(3, 1),\n",
    "            nn.Sigmoid()\n",
    "        )\n",
    "        \n",
    "    def forward(self, x):\n",
    "        return self.model(x)\n",
    "\n",
    "X = np.array([[0, 0],\n",
    "              [0, 1],\n",
    "              [1, 0],\n",
    "              [1, 1]], dtype = np.float32)\n",
    "X = torch.FloatTensor(X).view(-1, 2)\n",
    "Y = np.array([0, 1, 1, 0], dtype = np.float32)\n",
    "Y = torch.FloatTensor(Y).view(-1, 1)\n",
    "\n",
    "model = practice_model()\n",
    "criterion = nn.MSELoss()\n",
    "optimizer = torch.optim.Adam(model.parameters(), lr = 0.01)\n",
    "\n",
    "epochs = 1000\n",
    "for epoch in range(epochs):\n",
    "    outputs = model(X)\n",
    "    loss = criterion(outputs, Y)\n",
    "    loss.backward()\n",
    "    optimizer.zero_grad()\n",
    "    optimizer.step()\n",
    "\n",
    "pred = model(X) > 0.5\n",
    "print(pred)"
   ]
  }
 ],
 "metadata": {
  "kernelspec": {
   "display_name": "Python 3",
   "language": "python",
   "name": "python3"
  },
  "language_info": {
   "codemirror_mode": {
    "name": "ipython",
    "version": 3
   },
   "file_extension": ".py",
   "mimetype": "text/x-python",
   "name": "python",
   "nbconvert_exporter": "python",
   "pygments_lexer": "ipython3",
   "version": "3.12.6"
  }
 },
 "nbformat": 4,
 "nbformat_minor": 2
}
