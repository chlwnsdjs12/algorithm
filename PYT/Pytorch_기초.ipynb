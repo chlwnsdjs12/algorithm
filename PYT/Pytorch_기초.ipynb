{
 "cells": [
  {
   "cell_type": "code",
   "execution_count": 1,
   "metadata": {},
   "outputs": [],
   "source": [
    "import torch.nn as nn"
   ]
  },
  {
   "cell_type": "code",
   "execution_count": null,
   "metadata": {},
   "outputs": [],
   "source": [
    "class torch_LR_Model(nn.Module):\n",
    "    def __init__(self):\n",
    "        super(torch_LR_Model, self).__init__()\n",
    "        self.linear1 = nn.Linear(3, 4)\n",
    "        self.linear2 = nn.Linear(4, 2)\n",
    "        self.linear3 = nn.Linear(2, 3)\n",
    "        self.af_sigmoid = nn.Sigmoid()\n",
    "        self.af_ReLU = nn.ReLU()\n",
    "    \n",
    "    def forward(self, x):\n",
    "        x = self.linear1(x)\n",
    "        x = self.af_ReLU(x)\n",
    "        x = self.linear2(x)\n",
    "        x = self.af_ReLU(x)\n",
    "        x = self.linear3(x)\n",
    "        x = self.af_sigmoid(x)\n",
    "        return x\n",
    "    "
   ]
  }
 ],
 "metadata": {
  "kernelspec": {
   "display_name": "Python 3",
   "language": "python",
   "name": "python3"
  },
  "language_info": {
   "codemirror_mode": {
    "name": "ipython",
    "version": 3
   },
   "file_extension": ".py",
   "mimetype": "text/x-python",
   "name": "python",
   "nbconvert_exporter": "python",
   "pygments_lexer": "ipython3",
   "version": "3.12.6"
  }
 },
 "nbformat": 4,
 "nbformat_minor": 2
}
